{
 "cells": [
  {
   "cell_type": "markdown",
   "metadata": {},
   "source": [
    "# Code Assignment 1\n",
    "Maximilian Huber"
   ]
  },
  {
   "cell_type": "code",
   "execution_count": 1,
   "metadata": {
    "code_folding": []
   },
   "outputs": [
    {
     "data": {
      "text/plain": [
       "E (generic function with 1 method)"
      ]
     },
     "execution_count": 1,
     "metadata": {},
     "output_type": "execute_result"
    }
   ],
   "source": [
    "# setup functions\n",
    "using Optim, Plots, ForwardDiff, Roots; gr()\n",
    "\n",
    "u(x, z) = -10 * convert(Float64, norm(x - z) >= 0.1)\n",
    "c(y, z) = norm(y - z)^2\n",
    "\n",
    "function W(p)\n",
    "    \n",
    "    U = zeros(N, N)\n",
    "    C = zeros(N, N)\n",
    "    \n",
    "    for i in 1:N # passanger/car locations\n",
    "        for j in 1:N #pickup locations\n",
    "            U[i, j] = u(X[i], Z[j])\n",
    "            C[i, j] = c(Y[i], Z[j])\n",
    "        end\n",
    "    end\n",
    "    \n",
    "    return sum(n_x .* log.(1 .+ sum(exp.(U .- p'), 2))) + sum(m_y .* log.(1 .+ sum(exp.(p' .- C), 2)))\n",
    "end\n",
    "\n",
    "D(p, U) = sum(n_x .* exp.(U .- p') ./ (1 .+ sum(exp.(U .- p'), 2)), 1)[:]\n",
    "S(p, C) = sum(m_y .* exp.(p' .- C) ./ (1 .+ sum(exp.(p' .- C), 2)), 1)[:]\n",
    "\n",
    "function E!(e, U, C, p)\n",
    "    e .= S(p, C) .- D(p, U)\n",
    "    return nothing\n",
    "end;\n",
    "\n",
    "function E_z(U, C, p, z)\n",
    "    S(p, C)[z] - D(p, U)[z]\n",
    "end\n",
    "\n",
    "function E(U, C, p)\n",
    "    S(p, C) - D(p, U)\n",
    "end"
   ]
  },
  {
   "cell_type": "code",
   "execution_count": 2,
   "metadata": {
    "code_folding": []
   },
   "outputs": [],
   "source": [
    "# define X, Y, Z, N, n_x, m_y\n",
    "const X = [[i, j] for i in 0.1:0.1:1, j in 0.1:0.1:1][:]\n",
    "const Y = X\n",
    "const Z = X\n",
    "const N = 100\n",
    "\n",
    "const n_x = ones(N)\n",
    "const m_y = prod.(Y);"
   ]
  },
  {
   "cell_type": "markdown",
   "metadata": {},
   "source": [
    "## Gradient Descent"
   ]
  },
  {
   "cell_type": "code",
   "execution_count": 3,
   "metadata": {
    "code_folding": []
   },
   "outputs": [
    {
     "data": {
      "text/plain": [
       "gradient_decent (generic function with 1 method)"
      ]
     },
     "execution_count": 3,
     "metadata": {},
     "output_type": "execute_result"
    }
   ],
   "source": [
    "# define gradient_decent()\n",
    "function gradient_decent(;stepsize = 0.2, tol = 1e-5, max_iter = 500, p_init = zeros(N))\n",
    "    tic()\n",
    "    iteration = 0\n",
    "    residual = 1.\n",
    "    p_old = p_init\n",
    "    p_new = zeros(N)\n",
    "    \n",
    "    U = zeros(N, N)\n",
    "    C = zeros(N, N)\n",
    "    \n",
    "    for i in 1:N # passanger/car locations\n",
    "        for j in 1:N #pickup locations\n",
    "            U[i, j] = u(X[i], Z[j])\n",
    "            C[i, j] = c(Y[i], Z[j])\n",
    "        end\n",
    "    end\n",
    "    \n",
    "    while (residual > tol) && (iteration <= max_iter)\n",
    "        iteration += 1\n",
    "        E!(p_new, U, C, p_old)\n",
    "        p_new .= p_old .- stepsize .* p_new\n",
    "\n",
    "        residual = maximum(abs.(S(p_new, C) .- D(p_new, U)) ./\n",
    "            (S(p_new, C) .+ D(p_new, U)))\n",
    "        p_old .= p_new\n",
    "    end\n",
    "    \n",
    "    return (residual, sum(S(p_new, C)), \n",
    "        sum(S(p_new, C) .* p_new), iteration, toq(), p_new)\n",
    "end"
   ]
  },
  {
   "cell_type": "markdown",
   "metadata": {},
   "source": [
    "Off course, the choice of the `stepsize=2.0` is optimized for this concrete example!"
   ]
  },
  {
   "cell_type": "code",
   "execution_count": 4,
   "metadata": {},
   "outputs": [
    {
     "name": "stdout",
     "output_type": "stream",
     "text": [
      "(residual, rides, avg_price, iter, t) = (6.6792805490928935e-6, 30.196710381492267, 61.64504758321407, 24, 0.035827966)\n"
     ]
    }
   ],
   "source": [
    "(residual, rides, avg_price, iter, t, p) = gradient_decent(stepsize=2.0)\n",
    "\n",
    "@show (residual, rides, avg_price, iter, t);"
   ]
  },
  {
   "cell_type": "code",
   "execution_count": 5,
   "metadata": {},
   "outputs": [],
   "source": [
    "p_correct = p;"
   ]
  },
  {
   "cell_type": "markdown",
   "metadata": {},
   "source": [
    "## Implicit Time Stepping"
   ]
  },
  {
   "cell_type": "code",
   "execution_count": 6,
   "metadata": {},
   "outputs": [
    {
     "data": {
      "text/plain": [
       "residual_wrapper (generic function with 1 method)"
      ]
     },
     "execution_count": 6,
     "metadata": {},
     "output_type": "execute_result"
    }
   ],
   "source": [
    "function residual_wrapper(p_old, stepsize, U, C)\n",
    "    return (residual, p_new) -> residual .= E(U, C, p_new) - 1/stepsize * (p_new - p_old)\n",
    "end"
   ]
  },
  {
   "cell_type": "code",
   "execution_count": 7,
   "metadata": {},
   "outputs": [
    {
     "data": {
      "text/plain": [
       "implicit_time_stepping (generic function with 1 method)"
      ]
     },
     "execution_count": 7,
     "metadata": {},
     "output_type": "execute_result"
    }
   ],
   "source": [
    "# define gradient_decent()\n",
    "function implicit_time_stepping(;stepsize = 1., tol = 1e-5, max_iter = 50, p_init = ones(N))\n",
    "    tic()\n",
    "    iteration = 0\n",
    "    distance = 1.\n",
    "    distanceold = 1.\n",
    "    p_old = p_init\n",
    "    p_new = zeros(N)\n",
    "    \n",
    "    U = zeros(N, N)\n",
    "    C = zeros(N, N)\n",
    "    \n",
    "    for i in 1:N # passanger/car locations\n",
    "        for j in 1:N #pickup locations\n",
    "            U[i, j] = u(X[i], Z[j])\n",
    "            C[i, j] = c(Y[i], Z[j])\n",
    "        end\n",
    "    end\n",
    "    \n",
    "    while (distance > tol) && (iteration <= max_iter)\n",
    "        iteration += 1\n",
    "        result = nlsolve(residual_wrapper(p_old, stepsize, U, C), p_old, iterations = 100, \n",
    "            autodiff=:forward, method = :newton, ftol = 1e-9)\n",
    "        p_new .= result.zero\n",
    "        \n",
    "        if any(isnan.(p_new))\n",
    "            println(\"Iteration $iteration bad solution with step size $stepsize\")\n",
    "            stepsize = stepsize / 10\n",
    "            continue\n",
    "        end\n",
    "        \n",
    "        if !result.f_converged\n",
    "            println(\"Iteration $iteration no convergence with step size $stepsize\")\n",
    "            stepsize = stepsize / 10\n",
    "            continue\n",
    "        end      \n",
    "        \n",
    "        distance, distanceold = maximum(abs.(E(U, C, p_new))), distance\n",
    "        p_old .= p_new\n",
    "        if (distance <= distanceold)\n",
    "            stepsize = stepsize * 2\n",
    "        end\n",
    "    end\n",
    "    \n",
    "    return (distance, sum(S(p_new, C)), \n",
    "        (S(p_new, C)' * p_new)[1]/sum(S(p_new, C)), iteration, toq(), p_new)\n",
    "end"
   ]
  },
  {
   "cell_type": "code",
   "execution_count": 8,
   "metadata": {
    "scrolled": false
   },
   "outputs": [
    {
     "name": "stdout",
     "output_type": "stream",
     "text": [
      "(residual, rides, avg_price, iter, t) = (100.0, 30.249999999999915, 33.532630609023045, 21, 5.916749272)\n"
     ]
    }
   ],
   "source": [
    "using NLsolve\n",
    "\n",
    "(residual, rides, avg_price, iter, t, p) = implicit_time_stepping(stepsize=0.1, max_iter = 20)\n",
    "\n",
    "@show (residual, rides, avg_price, iter, t);"
   ]
  },
  {
   "cell_type": "code",
   "execution_count": 9,
   "metadata": {},
   "outputs": [
    {
     "data": {
      "text/plain": [
       "71.22259540764466"
      ]
     },
     "execution_count": 9,
     "metadata": {},
     "output_type": "execute_result"
    }
   ],
   "source": [
    "maximum(abs.(p .- p_correct))"
   ]
  },
  {
   "cell_type": "code",
   "execution_count": 36,
   "metadata": {},
   "outputs": [
    {
     "data": {
      "text/plain": [
       "-100.0"
      ]
     },
     "execution_count": 36,
     "metadata": {},
     "output_type": "execute_result"
    }
   ],
   "source": [
    "U = zeros(N, N)\n",
    "    C = zeros(N, N)\n",
    "    \n",
    "    for i in 1:N # passanger/car locations\n",
    "        for j in 1:N #pickup locations\n",
    "            U[i, j] = u(X[i], Z[j])\n",
    "            C[i, j] = c(Y[i], Z[j])\n",
    "        end\n",
    "    end\n",
    "(E(U, C, p))[89]"
   ]
  },
  {
   "cell_type": "code",
   "execution_count": null,
   "metadata": {},
   "outputs": [],
   "source": []
  },
  {
   "cell_type": "markdown",
   "metadata": {},
   "source": [
    "## Newton Descent"
   ]
  },
  {
   "cell_type": "code",
   "execution_count": 5,
   "metadata": {
    "code_folding": [
     0
    ]
   },
   "outputs": [
    {
     "data": {
      "text/plain": [
       "newton_decent (generic function with 1 method)"
      ]
     },
     "execution_count": 5,
     "metadata": {},
     "output_type": "execute_result"
    }
   ],
   "source": [
    "# define newton_decent()\n",
    "function newton_decent(;stepsize = .2, tol = 1e-5, max_iter = 50, p_init = zeros(N))\n",
    "    tic()\n",
    "    iteration = 0\n",
    "    residual = 1.\n",
    "    p_old = p_init\n",
    "    p_new = zeros(N)\n",
    "    \n",
    "    U = zeros(N, N)\n",
    "    C = zeros(N, N)\n",
    "    \n",
    "    for i in 1:N # passanger/car locations\n",
    "        for j in 1:N #pickup locations\n",
    "            U[i, j] = u(X[i], Z[j])\n",
    "            C[i, j] = c(Y[i], Z[j])\n",
    "        end\n",
    "    end\n",
    "    \n",
    "    f = OnceDifferentiable((e, p) -> E!(e, U, C, p), zeros(100))\n",
    "    df = zeros(100, 100)\n",
    "    \n",
    "    while (residual > tol) && (iteration <= max_iter)\n",
    "        iteration += 1\n",
    "        E!(p_new, U, C, p_old)\n",
    "        p_new .= p_old .- stepsize .* ((ForwardDiff.hessian(W, p_old)^-1) * p_new)\n",
    "\n",
    "        residual = maximum(abs.(S(p_new, C) .- D(p_new, U)) ./\n",
    "            (S(p_new, C) .+ D(p_new, U)))\n",
    "        p_old .= p_new\n",
    "    end\n",
    "    \n",
    "    return (residual, sum(S(p_new, C)), \n",
    "        sum(S(p_new, C) .* p_new), iteration, toq(), p_new)\n",
    "end"
   ]
  },
  {
   "cell_type": "code",
   "execution_count": 6,
   "metadata": {},
   "outputs": [],
   "source": [
    "#(residual, rides, avg_price, iter, t, p) = newton_decent(stepsize = .2)\n",
    "\n",
    "#@show (residual, rides, avg_price, iter, t);"
   ]
  },
  {
   "cell_type": "markdown",
   "metadata": {},
   "source": [
    "## Coordinate Decent"
   ]
  },
  {
   "cell_type": "code",
   "execution_count": 15,
   "metadata": {
    "code_folding": []
   },
   "outputs": [
    {
     "data": {
      "text/plain": [
       "coordinate_decent (generic function with 1 method)"
      ]
     },
     "execution_count": 15,
     "metadata": {},
     "output_type": "execute_result"
    }
   ],
   "source": [
    "# define coordinate_decent()\n",
    "function coordinate_decent(;tol::Float64 = 1e-5, max_iter::Int64 = 50, p_init::Vector{Float64} = zeros(N))\n",
    "    tic()\n",
    "    iteration = 0\n",
    "    residual = 1.\n",
    "    p_old = p_init\n",
    "    p_new = zeros(N)\n",
    "    \n",
    "    U = zeros(N, N)\n",
    "    C = zeros(N, N)\n",
    "    \n",
    "    for i in 1:N # passanger/car locations\n",
    "        for j in 1:N #pickup locations\n",
    "            U[i, j] = u(X[i], Z[j])\n",
    "            C[i, j] = c(Y[i], Z[j])\n",
    "        end\n",
    "    end\n",
    "    \n",
    "    while (residual > tol) && (iteration < max_iter)\n",
    "        iteration += 1\n",
    "\n",
    "        Threads.@threads for i in 1:N\n",
    "            p_new[i] = find_zero(p_z -> E_z(U, C, vcat(p_old[1:i-1], p_z, p_old[i+1:end]), i), (0., 3.), Order1())\n",
    "        end\n",
    "        \n",
    "        residual = maximum(abs.(S(p_new, C) .- D(p_new, U)) ./ (S(p_new, C) .+ D(p_new, U)))\n",
    "        p_old .= p_new\n",
    "    end\n",
    "    \n",
    "    return (residual, sum(S(p_new, C)), \n",
    "        (S(p_new, C)' * p_new)[1]/sum(S(p_new, C)), iteration, toq(), p_new)\n",
    "end"
   ]
  },
  {
   "cell_type": "code",
   "execution_count": 16,
   "metadata": {},
   "outputs": [
    {
     "name": "stdout",
     "output_type": "stream",
     "text": [
      "(residual, rides, avg_price, iter, t) = (6.527430780612634e-6, 30.19670964825541, 2.0414353028463283, 27, 3.679892047)\n"
     ]
    }
   ],
   "source": [
    "(residual, rides, avg_price, iter, t, p) = coordinate_decent()\n",
    "\n",
    "@show (residual, rides, avg_price, iter, t);"
   ]
  },
  {
   "cell_type": "code",
   "execution_count": 9,
   "metadata": {},
   "outputs": [
    {
     "data": {
      "text/plain": [
       "coordinate_decent_single (generic function with 1 method)"
      ]
     },
     "execution_count": 9,
     "metadata": {},
     "output_type": "execute_result"
    }
   ],
   "source": [
    "# define coordinate_decent()\n",
    "function coordinate_decent_single(;tol::Float64 = 1e-5, max_iter::Int64 = 50, p_init::Vector{Float64} = zeros(N))\n",
    "    tic()\n",
    "    iteration = 0\n",
    "    residual = 1.\n",
    "    p_old = p_init\n",
    "    p_new = zeros(N)\n",
    "    \n",
    "    U = zeros(N, N)\n",
    "    C = zeros(N, N)\n",
    "    \n",
    "    for i in 1:N # passanger/car locations\n",
    "        for j in 1:N #pickup locations\n",
    "            U[i, j] = u(X[i], Z[j])\n",
    "            C[i, j] = c(Y[i], Z[j])\n",
    "        end\n",
    "    end\n",
    "    \n",
    "    while (residual > tol) && (iteration < max_iter)\n",
    "        iteration += 1\n",
    "\n",
    "        for i in 1:N\n",
    "            p_new[i] = find_zero(p_z -> E_z(U, C, vcat(p_old[1:i-1], p_z, p_old[i+1:end]), i), (0., 3.), Order1())\n",
    "        end\n",
    "        \n",
    "        residual = maximum(abs.(S(p_new, C) .- D(p_new, U)) ./ (S(p_new, C) .+ D(p_new, U)))\n",
    "        p_old .= p_new\n",
    "    end\n",
    "    \n",
    "    return (residual, sum(S(p_new, C)), \n",
    "        (S(p_new, C) * p_new)[1]/sum(S(p_new, C)), iteration, toq(), p_new)\n",
    "end"
   ]
  },
  {
   "cell_type": "code",
   "execution_count": 10,
   "metadata": {},
   "outputs": [
    {
     "name": "stdout",
     "output_type": "stream",
     "text": [
      "(residual, rides, avg_price, iter, t) = (6.527430780612634e-6, 30.19670964825541, 2.0414353028463283, 27, 10.287812548)\n"
     ]
    }
   ],
   "source": [
    "(residual, rides, avg_price, iter, t, p) = coordinate_decent_single()\n",
    "\n",
    "@show (residual, rides, avg_price, iter, t);"
   ]
  },
  {
   "cell_type": "markdown",
   "metadata": {},
   "source": [
    "## Subsidizer Supply"
   ]
  },
  {
   "cell_type": "code",
   "execution_count": 11,
   "metadata": {},
   "outputs": [
    {
     "data": {
      "text/plain": [
       "S (generic function with 1 method)"
      ]
     },
     "execution_count": 11,
     "metadata": {},
     "output_type": "execute_result"
    }
   ],
   "source": [
    "F(p) = p .+ log.(1 .+ exp.(-p))\n",
    "S(p, C) = sum(m_y .* exp.(F(p)' .- C) ./ (1 .+ sum(exp.(F(p)' .- C), 2)), 1)"
   ]
  },
  {
   "cell_type": "code",
   "execution_count": 12,
   "metadata": {},
   "outputs": [
    {
     "name": "stdout",
     "output_type": "stream",
     "text": [
      "(residual, rides, avg_price, iter, t) = (8.324873739471545e-6, 30.202834872610644, 2.0407585942787714, 24, 4.37938677)\n"
     ]
    }
   ],
   "source": [
    "(residual, rides, avg_price, iter, t, p) = coordinate_decent(max_iter = 200)\n",
    "\n",
    "@show (residual, rides, avg_price, iter, t);"
   ]
  },
  {
   "cell_type": "markdown",
   "metadata": {},
   "source": [
    "The coordinate descent method is inefficient, when faced with the subsidized supply function."
   ]
  },
  {
   "cell_type": "code",
   "execution_count": null,
   "metadata": {},
   "outputs": [],
   "source": []
  }
 ],
 "metadata": {
  "kernelspec": {
   "display_name": "Julia 0.6.2",
   "language": "julia",
   "name": "julia-0.6"
  },
  "language_info": {
   "file_extension": ".jl",
   "mimetype": "application/julia",
   "name": "julia",
   "version": "0.6.2"
  }
 },
 "nbformat": 4,
 "nbformat_minor": 2
}
