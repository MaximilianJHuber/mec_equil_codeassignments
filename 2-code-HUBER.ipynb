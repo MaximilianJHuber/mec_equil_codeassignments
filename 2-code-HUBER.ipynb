{
 "cells": [
  {
   "cell_type": "markdown",
   "metadata": {},
   "source": [
    "# Code Assignment 2\n",
    "Maximilian Huber"
   ]
  },
  {
   "cell_type": "code",
   "execution_count": 1,
   "metadata": {
    "code_folding": [
     0
    ]
   },
   "outputs": [
    {
     "data": {
      "text/plain": [
       "E_z (generic function with 1 method)"
      ]
     },
     "execution_count": 1,
     "metadata": {},
     "output_type": "execute_result"
    }
   ],
   "source": [
    "# setup functions\n",
    "using Optim, Plots, ForwardDiff, Roots; gr()\n",
    "\n",
    "u(x, z) = -10 * convert(Float64, norm(x - z) >= 0.1)\n",
    "c(y, z) = norm(y - z)^2\n",
    "\n",
    "function W(p)\n",
    "    \n",
    "    U = zeros(N, N)\n",
    "    C = zeros(N, N)\n",
    "    \n",
    "    for i in 1:N # passanger/car locations\n",
    "        for j in 1:N #pickup locations\n",
    "            U[i, j] = u(X[i], Z[j])\n",
    "            C[i, j] = c(Y[i], Z[j])\n",
    "        end\n",
    "    end\n",
    "    \n",
    "    return sum(n_x .* log.(1 .+ sum(exp.(U .- p'), 2))) + sum(m_y .* log.(1 .+ sum(exp.(p' .- C), 2)))\n",
    "end\n",
    "\n",
    "D(p, U) = sum(n_x .* exp.(U .- p') ./ (1 .+ sum(exp.(U .- p'), 2)), 1)\n",
    "S(p, C) = sum(m_y .* exp.(p' .- C) ./ (1 .+ sum(exp.(p' .- C), 2)), 1)\n",
    "\n",
    "function E!(e, U, C, p)\n",
    "    e .= (S(p, C) .- D(p, U))[:]\n",
    "    return nothing\n",
    "end;\n",
    "\n",
    "function E_z(U, C, p, z)\n",
    "    S(p, C)[z] - D(p, U)[z]\n",
    "end"
   ]
  },
  {
   "cell_type": "code",
   "execution_count": 2,
   "metadata": {
    "code_folding": [
     0
    ]
   },
   "outputs": [],
   "source": [
    "# define X, Y, Z, N, n_x, m_y\n",
    "const X = [[i, j] for i in 0.1:0.1:1, j in 0.1:0.1:1][:]\n",
    "const Y = X\n",
    "const Z = X\n",
    "const N = 100\n",
    "\n",
    "const n_x = ones(N)\n",
    "const m_y = prod.(Y);"
   ]
  },
  {
   "cell_type": "markdown",
   "metadata": {},
   "source": [
    "## Coordinate Decent - in parallel"
   ]
  },
  {
   "cell_type": "markdown",
   "metadata": {},
   "source": [
    "I started up Julia with 4 threads. Threads in Julia do not have dedicated memory!"
   ]
  },
  {
   "cell_type": "code",
   "execution_count": 3,
   "metadata": {},
   "outputs": [
    {
     "data": {
      "text/plain": [
       "4"
      ]
     },
     "execution_count": 3,
     "metadata": {},
     "output_type": "execute_result"
    }
   ],
   "source": [
    "Threads.nthreads()"
   ]
  },
  {
   "cell_type": "code",
   "execution_count": 4,
   "metadata": {
    "code_folding": []
   },
   "outputs": [
    {
     "data": {
      "text/plain": [
       "coordinate_decent (generic function with 1 method)"
      ]
     },
     "execution_count": 4,
     "metadata": {},
     "output_type": "execute_result"
    }
   ],
   "source": [
    "# define coordinate_decent()\n",
    "function coordinate_decent(;tol::Float64 = 1e-5, max_iter::Int64 = 50, p_init::Vector{Float64} = zeros(N))\n",
    "    tic()\n",
    "    iteration = 0\n",
    "    residual = 1.\n",
    "    p_old = p_init\n",
    "    p_new = zeros(N)\n",
    "    \n",
    "    U = zeros(N, N)\n",
    "    C = zeros(N, N)\n",
    "    \n",
    "    for i in 1:N # passanger/car locations\n",
    "        for j in 1:N #pickup locations\n",
    "            U[i, j] = u(X[i], Z[j])\n",
    "            C[i, j] = c(Y[i], Z[j])\n",
    "        end\n",
    "    end\n",
    "    \n",
    "    while (residual > tol) && (iteration < max_iter)\n",
    "        iteration += 1\n",
    "\n",
    "        Threads.@threads for i in 1:N\n",
    "            p_new[i] = find_zero(p_z -> E_z(U, C, vcat(p_old[1:i-1], p_z, p_old[i+1:end]), i), (0., 3.), Order1())\n",
    "        end\n",
    "        \n",
    "        residual = maximum(abs.(S(p_new, C) .- D(p_new, U)) ./ (S(p_new, C) .+ D(p_new, U)))\n",
    "        p_old .= p_new\n",
    "    end\n",
    "    \n",
    "    return (residual, sum(S(p_new, C)), \n",
    "        (S(p_new, C) * p_new)[1]/sum(S(p_new, C)), iteration, toq(), p_new)\n",
    "end"
   ]
  },
  {
   "cell_type": "code",
   "execution_count": 5,
   "metadata": {},
   "outputs": [
    {
     "name": "stdout",
     "output_type": "stream",
     "text": [
      "(residual, rides, avg_price, iter, t) = (6.527430780612634e-6, 30.19670964825541, 2.0414353028463283, 27, 3.981476557)\n"
     ]
    }
   ],
   "source": [
    "(residual, rides, avg_price, iter, t, p) = coordinate_decent()\n",
    "\n",
    "@show (residual, rides, avg_price, iter, t);"
   ]
  },
  {
   "cell_type": "markdown",
   "metadata": {},
   "source": [
    "## Matching\n",
    "Let `x` be passengers (men, `i` in the slides) and `y` be cars (women, `j` in the slides)."
   ]
  },
  {
   "cell_type": "code",
   "execution_count": 64,
   "metadata": {},
   "outputs": [
    {
     "data": {
      "text/plain": [
       "γ_xy (generic function with 1 method)"
      ]
     },
     "execution_count": 64,
     "metadata": {},
     "output_type": "execute_result"
    }
   ],
   "source": [
    "α_xy(x, y) = -1 * convert(Float64, norm(x - y) >= 0.5)\n",
    "γ_xy(x, y) = -norm(x - y)^2"
   ]
  },
  {
   "cell_type": "code",
   "execution_count": 107,
   "metadata": {
    "code_folding": [
     0
    ]
   },
   "outputs": [
    {
     "name": "stdout",
     "output_type": "stream",
     "text": [
      "  0.061872 seconds (80.12 k allocations: 2.503 MiB)\n"
     ]
    }
   ],
   "source": [
    "# run the iterative procedure\n",
    "max_iter = 100\n",
    "\n",
    "μA_xy_old = repmat(n_x', N)\n",
    "μP_xy = zeros(N, N)\n",
    "μE_xy = zeros(N, N)\n",
    "\n",
    "μA_xy_new = zeros(N, N)\n",
    "\n",
    "\n",
    "Α = zeros(N, N) # preference of x\n",
    "Γ = zeros(N, N) # preference of y\n",
    "\n",
    "for i in 1:N # passanger/car locations\n",
    "    for j in 1:N #pickup locations\n",
    "        Α[i, j] = α_xy(X[i], Y[j])\n",
    "        Γ[i, j] = γ_xy(X[i], Y[j])\n",
    "    end\n",
    "end\n",
    "\n",
    "done = false\n",
    "iteration = 0\n",
    "\n",
    "@time while !done && (iteration < max_iter)\n",
    "    iteration += 1\n",
    "    \n",
    "    μP_xy = zeros(N, N)\n",
    "    μE_xy =zeros(N, N)\n",
    "    \n",
    "    for i in 1:N\n",
    "        j = indmax(Α[i, :])\n",
    "        μP_xy[i, i] = μA_xy_old[i, i]\n",
    "    end\n",
    "\n",
    "    for j in 1:N\n",
    "        i = indmax(Γ[:, j])\n",
    "        μE_xy[j, j] = min(μP_xy[j, j], m_y[j])\n",
    "    end\n",
    "\n",
    "    μA_xy_new .= μA_xy_old .- (μP_xy .- μE_xy)\n",
    "    μA_xy_new[μA_xy_new .< 0] = 0\n",
    "    done = all(μE_xy .≈ μP_xy)\n",
    "    μA_xy_old .= μA_xy_new\n",
    "end"
   ]
  },
  {
   "cell_type": "markdown",
   "metadata": {},
   "source": [
    "It took only one real iteration, because of horizontal preferences.\n",
    "Drivers pick up where they are, hence:\n",
    "\n",
    "* (i) welfare is 0 \n",
    "* (ii) welfare is 0\n",
    "* (iii) one iteration\n",
    "* (iv) 0.06 seconds, but I did not even have compiled the function"
   ]
  },
  {
   "cell_type": "markdown",
   "metadata": {},
   "source": [
    "### Adachi\n",
    "The Adachi algorithm assumes that all preferences are strict (slide 38, slide set 05).\n",
    "\n",
    "The results would be the same."
   ]
  },
  {
   "cell_type": "markdown",
   "metadata": {},
   "source": [
    "## Tiebreaking"
   ]
  },
  {
   "cell_type": "markdown",
   "metadata": {},
   "source": [
    "<b> Unfinished! </b>"
   ]
  },
  {
   "cell_type": "code",
   "execution_count": 108,
   "metadata": {},
   "outputs": [],
   "source": [
    "max_iter = 100\n",
    "\n",
    "μA_xy_old = repmat(n_x', N)\n",
    "μP_xy = zeros(N, N)\n",
    "μE_xy = zeros(N, N)\n",
    "\n",
    "μA_xy_new = zeros(N, N)\n",
    "\n",
    "\n",
    "Α = zeros(N, N) # preference of x\n",
    "Γ = zeros(N, N) # preference of y\n",
    "\n",
    "for i in 1:N # passanger/car locations\n",
    "    for j in 1:N #pickup locations\n",
    "        Α[i, j] = α_xy(X[i], Y[j]) + 0.01 * rand()\n",
    "        Γ[i, j] = γ_xy(X[i], Y[j]) + 0.01 * rand()\n",
    "    end\n",
    "end"
   ]
  },
  {
   "cell_type": "code",
   "execution_count": 110,
   "metadata": {},
   "outputs": [],
   "source": [
    "done = false\n",
    "iteration = 0\n",
    "\n",
    "while !done && (iteration < max_iter)\n",
    "    iteration += 1\n",
    "    \n",
    "    μP_xy = zeros(N, N)\n",
    "    μE_xy =zeros(N, N)\n",
    "    \n",
    "    for i in 1:N\n",
    "        J = collect(1:N)\n",
    "        while (sum(μP_xy[i, :]) < sum(μA_xy_old[i, :])) && (length(J) != 0)\n",
    "            # propose the highest available car\n",
    "            j = J[indmax(Α[i, J] .* (μA_xy_old[i, J] .> 0))]\n",
    "            μP_xy[i, j] = min(μA_xy_old[i, j], n_x[i] - sum(μP_xy[i, :]))\n",
    "            deleteat!(J, findin(J, j))\n",
    "        end\n",
    "    end\n",
    "\n",
    "    for j in 1:N\n",
    "        I = collect(1:N)\n",
    "        while (sum(μE_xy[:, j]) < m_y[j]) && (length(I) != 0)\n",
    "            # accept the highest available passenger\n",
    "            i = I[indmax(Γ[I, j] .* (μP_xy[I, j] .> 0))]\n",
    "            μE_xy[i, j] = min(μP_xy[i, j], m_y[j] - sum(μE_xy[:, j]))\n",
    "            deleteat!(I, findin(I, i))\n",
    "        end\n",
    "    end\n",
    "\n",
    "    μA_xy_new .= μA_xy_old .- (μP_xy .- μE_xy)\n",
    "    μA_xy_new[μA_xy_new .< 0] = 0\n",
    "    done = all(μE_xy .≈ μP_xy)\n",
    "    μA_xy_old .= μA_xy_new\n",
    "end"
   ]
  },
  {
   "cell_type": "code",
   "execution_count": 111,
   "metadata": {},
   "outputs": [
    {
     "data": {
      "text/plain": [
       "100"
      ]
     },
     "execution_count": 111,
     "metadata": {},
     "output_type": "execute_result"
    }
   ],
   "source": [
    "iteration"
   ]
  },
  {
   "cell_type": "markdown",
   "metadata": {},
   "source": [
    "Did not converge. Don't know what is wrong!"
   ]
  }
 ],
 "metadata": {
  "kernelspec": {
   "display_name": "Julia 0.6.2",
   "language": "julia",
   "name": "julia-0.6"
  },
  "language_info": {
   "file_extension": ".jl",
   "mimetype": "application/julia",
   "name": "julia",
   "version": "0.6.2"
  }
 },
 "nbformat": 4,
 "nbformat_minor": 2
}
